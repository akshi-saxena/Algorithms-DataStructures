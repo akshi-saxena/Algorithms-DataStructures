{
 "cells": [
  {
   "cell_type": "markdown",
   "metadata": {},
   "source": [
    "## Strings"
   ]
  },
  {
   "cell_type": "code",
   "execution_count": 14,
   "metadata": {},
   "outputs": [
    {
     "name": "stdout",
     "output_type": "stream",
     "text": [
      "1345468305224\n",
      "1345468457008\n"
     ]
    }
   ],
   "source": [
    "str = \"Hello\"\n",
    "print(id(str))\n",
    "str = str + \"world\"\n",
    "print(id(str))\n",
    "\n",
    "# String is immutable so str var is assigned new mem loc \n",
    "# id gives int rep of mem loc of obj (here var str)... everything in python is obj"
   ]
  },
  {
   "cell_type": "code",
   "execution_count": 15,
   "metadata": {},
   "outputs": [
    {
     "name": "stdout",
     "output_type": "stream",
     "text": [
      "Hlo\n",
      "dlrowolleH\n"
     ]
    }
   ],
   "source": [
    "print(str[0:6:2]) #[start:end:step-size]\n",
    "print(str[::-1])"
   ]
  },
  {
   "cell_type": "code",
   "execution_count": 16,
   "metadata": {},
   "outputs": [
    {
     "data": {
      "text/plain": [
       "['__add__',\n",
       " '__class__',\n",
       " '__contains__',\n",
       " '__delattr__',\n",
       " '__dir__',\n",
       " '__doc__',\n",
       " '__eq__',\n",
       " '__format__',\n",
       " '__ge__',\n",
       " '__getattribute__',\n",
       " '__getitem__',\n",
       " '__getnewargs__',\n",
       " '__gt__',\n",
       " '__hash__',\n",
       " '__init__',\n",
       " '__init_subclass__',\n",
       " '__iter__',\n",
       " '__le__',\n",
       " '__len__',\n",
       " '__lt__',\n",
       " '__mod__',\n",
       " '__mul__',\n",
       " '__ne__',\n",
       " '__new__',\n",
       " '__reduce__',\n",
       " '__reduce_ex__',\n",
       " '__repr__',\n",
       " '__rmod__',\n",
       " '__rmul__',\n",
       " '__setattr__',\n",
       " '__sizeof__',\n",
       " '__str__',\n",
       " '__subclasshook__',\n",
       " 'capitalize',\n",
       " 'casefold',\n",
       " 'center',\n",
       " 'count',\n",
       " 'encode',\n",
       " 'endswith',\n",
       " 'expandtabs',\n",
       " 'find',\n",
       " 'format',\n",
       " 'format_map',\n",
       " 'index',\n",
       " 'isalnum',\n",
       " 'isalpha',\n",
       " 'isascii',\n",
       " 'isdecimal',\n",
       " 'isdigit',\n",
       " 'isidentifier',\n",
       " 'islower',\n",
       " 'isnumeric',\n",
       " 'isprintable',\n",
       " 'isspace',\n",
       " 'istitle',\n",
       " 'isupper',\n",
       " 'join',\n",
       " 'ljust',\n",
       " 'lower',\n",
       " 'lstrip',\n",
       " 'maketrans',\n",
       " 'partition',\n",
       " 'replace',\n",
       " 'rfind',\n",
       " 'rindex',\n",
       " 'rjust',\n",
       " 'rpartition',\n",
       " 'rsplit',\n",
       " 'rstrip',\n",
       " 'split',\n",
       " 'splitlines',\n",
       " 'startswith',\n",
       " 'strip',\n",
       " 'swapcase',\n",
       " 'title',\n",
       " 'translate',\n",
       " 'upper',\n",
       " 'zfill']"
      ]
     },
     "execution_count": 16,
     "metadata": {},
     "output_type": "execute_result"
    }
   ],
   "source": [
    "dir(str)"
   ]
  },
  {
   "cell_type": "code",
   "execution_count": 19,
   "metadata": {},
   "outputs": [
    {
     "name": "stdout",
     "output_type": "stream",
     "text": [
      "Helloworld helloworld HELLOWORLD 5 -1\n"
     ]
    }
   ],
   "source": [
    "print(str.capitalize(), str.lower(), str.upper(), str.find(\"world\"), str.find(\"z\"))"
   ]
  },
  {
   "cell_type": "code",
   "execution_count": 25,
   "metadata": {},
   "outputs": [
    {
     "name": "stdout",
     "output_type": "stream",
     "text": [
      "Today's Price- \t 5\n",
      "Today's Price- \t 5\n",
      "Today's Price-\t 5\n"
     ]
    }
   ],
   "source": [
    "num = 5\n",
    "print(\"Today's Price- \\t\", num)\n",
    "print(f\"Today's Price- \\t {num}\")\n",
    "print(\"Today's Price-\\t {}\".format(num))"
   ]
  },
  {
   "cell_type": "code",
   "execution_count": 27,
   "metadata": {},
   "outputs": [
    {
     "name": "stdout",
     "output_type": "stream",
     "text": [
      "my name is jon snow and not only do I know nothing I also do nothing\n",
      "my name is jon snow and \n",
      "not only do I know nothing\n",
      "I also do nothing\n"
     ]
    }
   ],
   "source": [
    "print(\"my name is jon snow and \\\n",
    "not only do I know nothing \\\n",
    "I also do nothing\")\n",
    "print(\"\"\"my name is jon snow and \n",
    "not only do I know nothing\n",
    "I also do nothing\"\"\")"
   ]
  },
  {
   "cell_type": "markdown",
   "metadata": {},
   "source": [
    "## Lists, dicts, sets, tuples"
   ]
  },
  {
   "cell_type": "code",
   "execution_count": 15,
   "metadata": {},
   "outputs": [],
   "source": [
    "li = [15,20,1,3,12,8,6,7,10]\n",
    "str_li = [\"comp sci\",\"phy\",\"philosophy\"]"
   ]
  },
  {
   "cell_type": "code",
   "execution_count": 16,
   "metadata": {},
   "outputs": [
    {
     "data": {
      "text/plain": [
       "[1, 3, 6, 7, 8, 10, 12, 15, 20]"
      ]
     },
     "execution_count": 16,
     "metadata": {},
     "output_type": "execute_result"
    }
   ],
   "source": [
    "sorted(li) # not in place"
   ]
  },
  {
   "cell_type": "code",
   "execution_count": 17,
   "metadata": {},
   "outputs": [
    {
     "data": {
      "text/plain": [
       "[15, 20, 1, 3, 12, 8, 6, 7, 10]"
      ]
     },
     "execution_count": 17,
     "metadata": {},
     "output_type": "execute_result"
    }
   ],
   "source": [
    "li"
   ]
  },
  {
   "cell_type": "code",
   "execution_count": 18,
   "metadata": {},
   "outputs": [],
   "source": [
    "li.sort() # in place"
   ]
  },
  {
   "cell_type": "code",
   "execution_count": 19,
   "metadata": {},
   "outputs": [
    {
     "data": {
      "text/plain": [
       "[1, 3, 6, 7, 8, 10, 12, 15, 20]"
      ]
     },
     "execution_count": 19,
     "metadata": {},
     "output_type": "execute_result"
    }
   ],
   "source": [
    "li"
   ]
  },
  {
   "cell_type": "code",
   "execution_count": 20,
   "metadata": {},
   "outputs": [
    {
     "data": {
      "text/plain": [
       "1"
      ]
     },
     "execution_count": 20,
     "metadata": {},
     "output_type": "execute_result"
    }
   ],
   "source": [
    "str_li.index(\"phy\")"
   ]
  },
  {
   "cell_type": "code",
   "execution_count": 21,
   "metadata": {},
   "outputs": [
    {
     "data": {
      "text/plain": [
       "[1, 3, 6, 7, 8, 10, 12, 15, 20, 25]"
      ]
     },
     "execution_count": 21,
     "metadata": {},
     "output_type": "execute_result"
    }
   ],
   "source": [
    "li.append(25)\n",
    "li"
   ]
  },
  {
   "cell_type": "code",
   "execution_count": 22,
   "metadata": {},
   "outputs": [
    {
     "data": {
      "text/plain": [
       "[1, 3, 6, 7, 25, 8, 10, 12, 15, 20, 25]"
      ]
     },
     "execution_count": 22,
     "metadata": {},
     "output_type": "execute_result"
    }
   ],
   "source": [
    "li.insert(4,25)\n",
    "li"
   ]
  },
  {
   "cell_type": "code",
   "execution_count": 23,
   "metadata": {},
   "outputs": [
    {
     "data": {
      "text/plain": [
       "['comp sci', 'phy', 'philosophy', 'bio', 'chem']"
      ]
     },
     "execution_count": 23,
     "metadata": {},
     "output_type": "execute_result"
    }
   ],
   "source": [
    "new_str_li = [\"bio\",\"chem\"]\n",
    "str_li.extend(new_str_li)\n",
    "str_li"
   ]
  },
  {
   "cell_type": "code",
   "execution_count": 24,
   "metadata": {},
   "outputs": [
    {
     "name": "stdout",
     "output_type": "stream",
     "text": [
      "25\n"
     ]
    },
    {
     "data": {
      "text/plain": [
       "[1, 3, 6, 7, 25, 8, 10, 12, 15, 20]"
      ]
     },
     "execution_count": 24,
     "metadata": {},
     "output_type": "execute_result"
    }
   ],
   "source": [
    "print(li.pop())\n",
    "li"
   ]
  },
  {
   "cell_type": "code",
   "execution_count": 25,
   "metadata": {},
   "outputs": [
    {
     "data": {
      "text/plain": [
       "[1, 3, 6, 7, 25, 8, 10, 12, 15, 100]"
      ]
     },
     "execution_count": 25,
     "metadata": {},
     "output_type": "execute_result"
    }
   ],
   "source": [
    "li[-1] = 100 #list is mutable \n",
    "li"
   ]
  },
  {
   "cell_type": "code",
   "execution_count": 27,
   "metadata": {},
   "outputs": [
    {
     "name": "stdout",
     "output_type": "stream",
     "text": [
      "[100, 15, 12, 10, 8, 25, 7, 6, 3, 1]\n"
     ]
    },
    {
     "data": {
      "text/plain": [
       "[1, 3, 6, 7, 25, 8, 10, 12, 15, 100]"
      ]
     },
     "execution_count": 27,
     "metadata": {},
     "output_type": "execute_result"
    }
   ],
   "source": [
    "print(li[::-1])\n",
    "li"
   ]
  },
  {
   "cell_type": "code",
   "execution_count": 28,
   "metadata": {},
   "outputs": [
    {
     "data": {
      "text/plain": [
       "[100, 15, 12, 10, 8, 25, 7, 6, 3, 1]"
      ]
     },
     "execution_count": 28,
     "metadata": {},
     "output_type": "execute_result"
    }
   ],
   "source": [
    "li.reverse()\n",
    "li"
   ]
  },
  {
   "cell_type": "code",
   "execution_count": 29,
   "metadata": {},
   "outputs": [],
   "source": [
    "dict1 = {\"name\":\"mashur\",\"course\":\"python\"}\n",
    "dict2 = {\"a\":\n",
    "         {\n",
    "             \"apple\":\"round fruit\",\n",
    "             \"ant\":\"small insect\"\n",
    "         },\n",
    "         \"b\":\n",
    "         {\n",
    "             \"ball\":\"round playing object\",\n",
    "             \"bad\":\"of poor quality\"\n",
    "         }\n",
    "        }"
   ]
  },
  {
   "cell_type": "code",
   "execution_count": 34,
   "metadata": {},
   "outputs": [
    {
     "name": "stdout",
     "output_type": "stream",
     "text": [
      "mashur\n",
      "mashur\n"
     ]
    }
   ],
   "source": [
    "print(dict1[\"name\"])\n",
    "print(dict1.get(\"name\"))"
   ]
  },
  {
   "cell_type": "code",
   "execution_count": 36,
   "metadata": {},
   "outputs": [
    {
     "data": {
      "text/plain": [
       "{'name': 'mashur', 'course': 'python', 'job': 'python programmer'}"
      ]
     },
     "execution_count": 36,
     "metadata": {},
     "output_type": "execute_result"
    }
   ],
   "source": [
    "dict1[\"job\"] = \"python programmer\"\n",
    "dict1"
   ]
  },
  {
   "cell_type": "code",
   "execution_count": 37,
   "metadata": {},
   "outputs": [
    {
     "data": {
      "text/plain": [
       "dict_keys(['name', 'course', 'job'])"
      ]
     },
     "execution_count": 37,
     "metadata": {},
     "output_type": "execute_result"
    }
   ],
   "source": [
    "dict1.keys()"
   ]
  },
  {
   "cell_type": "code",
   "execution_count": 39,
   "metadata": {},
   "outputs": [
    {
     "data": {
      "text/plain": [
       "dict_values(['mashur', 'python', 'python programmer'])"
      ]
     },
     "execution_count": 39,
     "metadata": {},
     "output_type": "execute_result"
    }
   ],
   "source": [
    "dict1.values()"
   ]
  },
  {
   "cell_type": "code",
   "execution_count": 40,
   "metadata": {},
   "outputs": [
    {
     "data": {
      "text/plain": [
       "dict_items([('name', 'mashur'), ('course', 'python'), ('job', 'python programmer')])"
      ]
     },
     "execution_count": 40,
     "metadata": {},
     "output_type": "execute_result"
    }
   ],
   "source": [
    "dict1.items()"
   ]
  },
  {
   "cell_type": "code",
   "execution_count": 41,
   "metadata": {},
   "outputs": [
    {
     "name": "stdout",
     "output_type": "stream",
     "text": [
      "name mashur\n",
      "course python\n",
      "job python programmer\n"
     ]
    }
   ],
   "source": [
    "for k,v in dict1.items():\n",
    "    print(k,v)"
   ]
  },
  {
   "cell_type": "code",
   "execution_count": 46,
   "metadata": {},
   "outputs": [
    {
     "name": "stdout",
     "output_type": "stream",
     "text": [
      "thirdVal\n"
     ]
    }
   ],
   "source": [
    "tuple1 = (\"hello\",1,5,2,2,9,2,3,\"bye\") #immutable\n",
    "\n",
    "tuple2 = ('firstVal', 'secVal', 'thirdVal')\n",
    "var1,var2,var3 = tuple2 #unpacking tuple\n",
    "print(var3)"
   ]
  },
  {
   "cell_type": "code",
   "execution_count": 50,
   "metadata": {},
   "outputs": [
    {
     "name": "stdout",
     "output_type": "stream",
     "text": [
      "{1, 2, 'hello', 6, 7, 9, 'hi'}\n"
     ]
    }
   ],
   "source": [
    "set1 = {1,2,6,\"hello\",\"hi\",7,9,6,6}\n",
    "print(set1) #no duplicates #unordered"
   ]
  },
  {
   "cell_type": "code",
   "execution_count": 52,
   "metadata": {},
   "outputs": [
    {
     "name": "stdout",
     "output_type": "stream",
     "text": [
      "{2, 'hello', 7}\n",
      "{1, 2, 3, 4, 'hello', 7, 6, 9, 'hi'}\n",
      "{1, 'hi', 6, 9}\n"
     ]
    }
   ],
   "source": [
    "set2 = {\"hello\",7,3,4,2,2}\n",
    "print(set1.intersection(set2))\n",
    "print(set1.union(set2))\n",
    "print(set1.difference(set2))"
   ]
  },
  {
   "cell_type": "markdown",
   "metadata": {},
   "source": [
    "## Classes and objects"
   ]
  },
  {
   "cell_type": "code",
   "execution_count": 33,
   "metadata": {},
   "outputs": [
    {
     "name": "stdout",
     "output_type": "stream",
     "text": [
      "mashur is already enrolled in rails\n",
      "python not found\n",
      "First name: Mashur \n",
      "Last_name: Hossain\n",
      "Courses: Python,Rails,Javascript,Java\n",
      "First name: John \n",
      "Last_name: Doe\n",
      "Courses: Java,Rails\n",
      "{'first_name': 'mashur', 'last_name': 'hossain', 'courses': ['python', 'rails', 'javascript', 'java']}\n",
      "Student('mashur','hossain',['python', 'rails', 'javascript', 'java'])\n"
     ]
    }
   ],
   "source": [
    "class Student:\n",
    "    def __init__(self, first, last, courses=None):\n",
    "        # this is dunder method\n",
    "        # self parameter takes the instance \n",
    "        self.first_name = first\n",
    "        self.last_name = last\n",
    "        if courses == None:\n",
    "            self.courses = []\n",
    "        else:\n",
    "            self.courses = courses\n",
    "            \n",
    "    def add_course(self, course):\n",
    "        if course not in self.courses:\n",
    "            self.courses.append(course)\n",
    "        else:\n",
    "            print(f\"{self.first_name} is already enrolled in {course}\")\n",
    "            \n",
    "    def remove_course(self,course):\n",
    "        if course in self.courses:\n",
    "            self.courses.remove(course)\n",
    "        else:\n",
    "            print(f\"{course} not found\")\n",
    "    \n",
    "    def __repr__(self):\n",
    "        # this dunder method is also used for string representation of your obj -- but usually for other developers\n",
    "        return f\"Student('{self.first_name}','{self.last_name}',{self.courses})\"\n",
    "        \n",
    "    def __str__(self):\n",
    "        # this dunder method is used for string representation of your obj - it prints whatever is returned when instance printed\n",
    "        # >print(john) gives output <__main__.Student object at 0x000002195F593F60> so we use this method\n",
    "        return f\"First name: {self.first_name.capitalize()} \\nLast_name: {self.last_name.capitalize()}\\\n",
    "\\nCourses: {','.join(map(str.capitalize, self.courses))}\"\n",
    "        \n",
    "        \n",
    "        \n",
    "courses_1 = [\"python\",\"rails\",\"javascript\"]\n",
    "courses_2 = [\"java\",\"rails\",\"c\"]\n",
    "\n",
    "mashur = Student(\"mashur\",\"hossain\",courses_1) #instance 1, self passed automatically on calling\n",
    "# mashur.first_name = \"mashur\"\n",
    "# mashur.last_name = \"hossain\"\n",
    "# define init instead of above 2 lines\n",
    "\n",
    "mashur.add_course(\"rails\")\n",
    "mashur.add_course(\"java\")\n",
    "\n",
    "\n",
    "john = Student(\"john\",\"doe\",courses_2) # instance 2\n",
    "# john.first_name = \"john\"\n",
    "# john.last_name = \"doe\"\n",
    "\n",
    "john.remove_course(\"c\")\n",
    "john.remove_course(\"python\")\n",
    "\n",
    "# print(mashur.first_name,mashur.last_name,mashur.courses)\n",
    "# print(john.first_name,john.last_name,john.courses)\n",
    "print(mashur)\n",
    "print(john)\n",
    "\n",
    "print(mashur.__dict__)\n",
    "\n",
    "\n",
    "print(repr(mashur))"
   ]
  },
  {
   "cell_type": "markdown",
   "metadata": {},
   "source": [
    "## Files"
   ]
  },
  {
   "cell_type": "code",
   "execution_count": 47,
   "metadata": {},
   "outputs": [
    {
     "name": "stdout",
     "output_type": "stream",
     "text": [
      "mashur,hossain:python,javascript,ruby\n",
      "joe,shmo:java,c,c++\n",
      "mashur,hossain:python,javascript,ruby\n",
      "joe,shmo:java,c,c++\n",
      "\n"
     ]
    }
   ],
   "source": [
    "file_name = \"data.txt\"\n",
    "\n",
    "# basic method but not recommended\n",
    "# always close when using this method\n",
    "f = open(file_name)\n",
    "\n",
    "for line in f:\n",
    "    print(line.strip())\n",
    "\n",
    "f.close()\n",
    "\n",
    "\n",
    "f = open(file_name)\n",
    "\n",
    "f_contents = f.read()\n",
    "print(f_contents)\n",
    "\n",
    "f.close()"
   ]
  },
  {
   "cell_type": "code",
   "execution_count": 55,
   "metadata": {},
   "outputs": [
    {
     "name": "stdout",
     "output_type": "stream",
     "text": [
      "mashur,hossain:python,javascript,ruby\n",
      "joe,shmo:java,c,c++\n",
      "john,doe:python,rails\n"
     ]
    }
   ],
   "source": [
    "# context manager method\n",
    "\n",
    "with open(file_name) as f:\n",
    "    for line in f:\n",
    "        print(line.strip())\n",
    "        "
   ]
  },
  {
   "cell_type": "code",
   "execution_count": 50,
   "metadata": {},
   "outputs": [],
   "source": [
    "record = \"john,doe:python,rails\"\n",
    "with open(file_name,\"w\") as f:\n",
    "    f.write(record+\"\\n\")\n",
    "    \n",
    "# all file contents is re written by this record"
   ]
  },
  {
   "cell_type": "code",
   "execution_count": 51,
   "metadata": {},
   "outputs": [],
   "source": [
    "record = \"john,doe:python,rails\"\n",
    "with open(file_name,\"a+\") as f: #a+ is to append record at end\n",
    "    f.write(record+\"\\n\")"
   ]
  },
  {
   "cell_type": "code",
   "execution_count": null,
   "metadata": {},
   "outputs": [],
   "source": []
  },
  {
   "cell_type": "code",
   "execution_count": 60,
   "metadata": {},
   "outputs": [
    {
     "name": "stdout",
     "output_type": "stream",
     "text": [
      "mashur hossain ['python', 'javascript', 'ruby']\n",
      "joe shmo ['java', 'c', 'c++']\n",
      "john doe ['python', 'rails']\n",
      "john,doe:python,rails\n"
     ]
    }
   ],
   "source": [
    "def prep_record(line):\n",
    "    line = line.split(\":\")\n",
    "    first_name, last_name = line[0].split(\",\")\n",
    "    course_details = line[1].rstrip().split(\",\")\n",
    "    return first_name,last_name,course_details\n",
    "\n",
    "def prep_to_write(first_name,last_name,courses):\n",
    "    return f\"{first_name},{last_name}:{','.join(courses)}\"\n",
    "\n",
    "with open(file_name) as f:\n",
    "    for line in f:\n",
    "        first_name,last_name,course_details = prep_record(line)\n",
    "        print(first_name,last_name,course_details)\n",
    "        \n",
    "record_to_write = prep_to_write(first_name,last_name,course_details)\n",
    "print(record_to_write)"
   ]
  },
  {
   "cell_type": "markdown",
   "metadata": {},
   "source": [
    "## Student class + file functions + inheritence"
   ]
  },
  {
   "cell_type": "code",
   "execution_count": 79,
   "metadata": {},
   "outputs": [
    {
     "name": "stdout",
     "output_type": "stream",
     "text": [
      "True\n",
      "Record already exists\n",
      "Record already exists\n",
      "hockey\n",
      "True\n",
      "True\n",
      "False\n"
     ]
    }
   ],
   "source": [
    "class Student:\n",
    "    def __init__(self, first, last, courses=None):\n",
    "        # this is dunder method\n",
    "        # self parameter takes the instance \n",
    "        self.first_name = first\n",
    "        self.last_name = last\n",
    "        if courses == None:\n",
    "            self.courses = []\n",
    "        else:\n",
    "            self.courses = courses\n",
    "            \n",
    "    def add_course(self, course):\n",
    "        if course not in self.courses:\n",
    "            self.courses.append(course)\n",
    "        else:\n",
    "            print(f\"{self.first_name} is already enrolled in {course}\")\n",
    "            \n",
    "    def remove_course(self,course):\n",
    "        if course in self.courses:\n",
    "            self.courses.remove(course)\n",
    "        else:\n",
    "            print(f\"{course} not found\")\n",
    "    \n",
    "    @staticmethod\n",
    "    def prep_record(line):\n",
    "        line = line.split(\":\")\n",
    "        first_name, last_name = line[0].split(\",\")\n",
    "        course_details = line[1].rstrip().split(\",\")\n",
    "        return first_name,last_name,course_details\n",
    "    \n",
    "    def find_in_file(self,filename):\n",
    "        with open(file_name) as f:\n",
    "            for line in f:\n",
    "                first_name,last_name,course_details = Student.prep_record(line)\n",
    "                student_read_in = Student(first_name,last_name,course_details)\n",
    "                if self == student_read_in: \n",
    "                    #returns false even if record same because obj is not same so __eq__ to change equality\n",
    "                    return True\n",
    "            return False\n",
    "    \n",
    "    @staticmethod\n",
    "    def prep_to_write(first_name,last_name,courses):\n",
    "        return f\"{first_name},{last_name}:{','.join(courses)}\"\n",
    "    \n",
    "    def add_to_file(self,file_name):\n",
    "        if self.find_in_file(file_name) == True:\n",
    "            return \"Record already exists\"\n",
    "        else:\n",
    "            record = Student.prep_to_write(self.first_name,self.last_name,self.courses)\n",
    "            with open(file_name,\"a+\") as f:\n",
    "                f.write(record+\"\\n\")\n",
    "            return \"Record added\"\n",
    "    \n",
    "    def __eq__(self, other):\n",
    "        return self.first_name == other.first_name \\\n",
    "        and self.last_name == other.last_name\n",
    "    \n",
    "    def __repr__(self):\n",
    "        # this dunder method is also used for string representation of your obj -- but usually for other developers\n",
    "        return f\"Student('{self.first_name}','{self.last_name}',{self.courses})\"\n",
    "        \n",
    "    def __str__(self):\n",
    "        # this dunder method is used for string representation of your obj - it prints whatever is returned when instance printed\n",
    "        # >print(john) gives output <__main__.Student object at 0x000002195F593F60> so we use this method\n",
    "        return f\"First name: {self.first_name.capitalize()} \\nLast_name: {self.last_name.capitalize()}\\\n",
    "\\nCourses: {','.join(map(str.capitalize, self.courses))}\"\n",
    "        \n",
    "  \n",
    "\n",
    "class StudentAthlete(Student):\n",
    "    def __init__(self,first,last,courses=None,sport=None):\n",
    "        super().__init__(first,last,courses)\n",
    "        self.sport = sport\n",
    "\n",
    "        \n",
    "courses_1 = [\"python\",\"rails\",\"javascript\"]\n",
    "courses_2 = [\"java\",\"rails\",\"c\"]\n",
    "\n",
    "mashur = Student(\"mashur\",\"hossain\",courses_1)\n",
    "print(mashur.find_in_file(file_name))\n",
    "print(mashur.add_to_file(file_name))\n",
    "\n",
    "evan = Student(\"evan\",\"clarison\",courses_2)\n",
    "print(evan.add_to_file(file_name))\n",
    "\n",
    "jane = StudentAthlete(\"jane\",\"austin\",courses_1,\"hockey\")\n",
    "# print(help(jane))\n",
    "print(jane.sport)\n",
    "\n",
    "print(isinstance(jane,StudentAthlete))\n",
    "print(isinstance(jane,Student))\n",
    "print(isinstance(mashur,StudentAthlete))"
   ]
  },
  {
   "cell_type": "markdown",
   "metadata": {},
   "source": [
    "## Lambda"
   ]
  },
  {
   "cell_type": "code",
   "execution_count": 83,
   "metadata": {},
   "outputs": [
    {
     "name": "stdout",
     "output_type": "stream",
     "text": [
      "125\n"
     ]
    }
   ],
   "source": [
    "def my_math_func(x,f):\n",
    "    return f(x)\n",
    "\n",
    "# def cube(x):\n",
    "#     return x**3\n",
    "# print(my_math_func(5,cube))\n",
    "\n",
    "# no need of another func\n",
    "\n",
    "my_lambda = lambda x:x**3\n",
    "print(my_lambda(5))"
   ]
  },
  {
   "cell_type": "code",
   "execution_count": 89,
   "metadata": {},
   "outputs": [
    {
     "name": "stdout",
     "output_type": "stream",
     "text": [
      "[260, 829, 570, 876, 169, 117, 95, 223, 888, 55, 264, 307, 962, 237, 384, 73, 161, 622, 647, 83, 600, 877, 261, 184, 984, 865, 187, 854, 373, 295, 210, 33, 63, 882, 622, 521, 117, 60, 677, 1, 457, 812, 581, 153, 813, 30, 103, 346, 414, 960, 516, 36, 844, 179, 152, 641, 244, 414, 393, 523, 528, 633, 607, 10, 124, 638, 556, 102, 450, 13, 480, 599, 292, 573, 993, 8, 475, 44, 852, 880, 506, 45, 917, 90, 322, 206, 307, 851, 170, 209, 225, 503, 874, 447, 176, 779, 361, 816, 187, 234]\n",
      "[67600, 687241, 324900, 767376, 28561, 13689, 9025, 49729, 788544, 3025, 69696, 94249, 925444, 56169, 147456, 5329, 25921, 386884, 418609, 6889, 360000, 769129, 68121, 33856, 968256, 748225, 34969, 729316, 139129, 87025, 44100, 1089, 3969, 777924, 386884, 271441, 13689, 3600, 458329, 1, 208849, 659344, 337561, 23409, 660969, 900, 10609, 119716, 171396, 921600, 266256, 1296, 712336, 32041, 23104, 410881, 59536, 171396, 154449, 273529, 278784, 400689, 368449, 100, 15376, 407044, 309136, 10404, 202500, 169, 230400, 358801, 85264, 328329, 986049, 64, 225625, 1936, 725904, 774400, 256036, 2025, 840889, 8100, 103684, 42436, 94249, 724201, 28900, 43681, 50625, 253009, 763876, 199809, 30976, 606841, 130321, 665856, 34969, 54756]\n"
     ]
    }
   ],
   "source": [
    "from random import randint\n",
    "ints = [randint(1,1000) for i in range(100)]\n",
    "print(ints)\n",
    "\n",
    "print(list(map(lambda x:x**2,ints)))"
   ]
  },
  {
   "cell_type": "code",
   "execution_count": 1,
   "metadata": {},
   "outputs": [
    {
     "ename": "StopIteration",
     "evalue": "",
     "output_type": "error",
     "traceback": [
      "\u001b[1;31m---------------------------------------------------------------------------\u001b[0m",
      "\u001b[1;31mStopIteration\u001b[0m                             Traceback (most recent call last)",
      "\u001b[1;32m<ipython-input-1-9c74ab3aa4f4>\u001b[0m in \u001b[0;36m<module>\u001b[1;34m\u001b[0m\n\u001b[0;32m      3\u001b[0m \u001b[0mcube_ints\u001b[0m \u001b[1;33m=\u001b[0m \u001b[0mmap\u001b[0m\u001b[1;33m(\u001b[0m\u001b[1;32mlambda\u001b[0m \u001b[0mx\u001b[0m\u001b[1;33m:\u001b[0m\u001b[0mx\u001b[0m\u001b[1;33m**\u001b[0m\u001b[1;36m3\u001b[0m\u001b[1;33m,\u001b[0m\u001b[0ml1\u001b[0m\u001b[1;33m)\u001b[0m\u001b[1;33m\u001b[0m\u001b[1;33m\u001b[0m\u001b[0m\n\u001b[0;32m      4\u001b[0m \u001b[0mlist\u001b[0m\u001b[1;33m(\u001b[0m\u001b[0mcube_ints\u001b[0m\u001b[1;33m)\u001b[0m\u001b[1;33m\u001b[0m\u001b[1;33m\u001b[0m\u001b[0m\n\u001b[1;32m----> 5\u001b[1;33m \u001b[0mnext\u001b[0m\u001b[1;33m(\u001b[0m\u001b[0mcube_ints\u001b[0m\u001b[1;33m)\u001b[0m\u001b[1;33m\u001b[0m\u001b[1;33m\u001b[0m\u001b[0m\n\u001b[0m",
      "\u001b[1;31mStopIteration\u001b[0m: "
     ]
    }
   ],
   "source": [
    "l1 = [num for num in range(1,11)]\n",
    "\n",
    "cube_ints = map(lambda x:x**3,l1)\n",
    "list(cube_ints)\n",
    "next(cube_ints) # generator exhausted so no next item"
   ]
  },
  {
   "cell_type": "code",
   "execution_count": 6,
   "metadata": {},
   "outputs": [
    {
     "name": "stdout",
     "output_type": "stream",
     "text": [
      "[1, 2, 3, 4, 5, 6, 7, 8, 9, 10]\n"
     ]
    },
    {
     "data": {
      "text/plain": [
       "<generator object my_map at 0x0000024B2EA8F660>"
      ]
     },
     "execution_count": 6,
     "metadata": {},
     "output_type": "execute_result"
    }
   ],
   "source": [
    "def my_map(f, iterable):\n",
    "    for item in iterable:\n",
    "        yield f(item)\n",
    "\n",
    "print(l1)\n",
    "cube_ints = my_map(lambda x:x**3,l1)\n",
    "cube_ints"
   ]
  },
  {
   "cell_type": "code",
   "execution_count": 7,
   "metadata": {},
   "outputs": [
    {
     "name": "stdout",
     "output_type": "stream",
     "text": [
      "1\n",
      "8\n",
      "27\n"
     ]
    }
   ],
   "source": [
    "print(next(cube_ints))\n",
    "print(next(cube_ints))\n",
    "print(next(cube_ints))"
   ]
  },
  {
   "cell_type": "code",
   "execution_count": 8,
   "metadata": {},
   "outputs": [
    {
     "data": {
      "text/plain": [
       "<generator object <genexpr> at 0x0000024B2EA8F7C8>"
      ]
     },
     "execution_count": 8,
     "metadata": {},
     "output_type": "execute_result"
    }
   ],
   "source": [
    "l1 = (num for num in range(1,11))\n",
    "l1"
   ]
  },
  {
   "cell_type": "markdown",
   "metadata": {},
   "source": [
    "## Sorting Algorithms"
   ]
  },
  {
   "cell_type": "markdown",
   "metadata": {},
   "source": [
    "### Bubble Sort O(n^2) "
   ]
  },
  {
   "cell_type": "markdown",
   "metadata": {},
   "source": [
    "best case O(n) - when list already sorted"
   ]
  },
  {
   "cell_type": "code",
   "execution_count": 18,
   "metadata": {},
   "outputs": [
    {
     "name": "stdout",
     "output_type": "stream",
     "text": [
      "swap:  [6, 8, 1, 4, 10, 7, 8, 9, 2, 3, 5]\n",
      "swap:  [6, 1, 8, 4, 10, 7, 8, 9, 2, 3, 5]\n",
      "swap:  [6, 1, 4, 8, 10, 7, 8, 9, 2, 3, 5]\n",
      "swap:  [6, 1, 4, 8, 10, 7, 8, 9, 2, 3, 5]\n",
      "swap:  [6, 1, 4, 8, 7, 10, 8, 9, 2, 3, 5]\n",
      "swap:  [6, 1, 4, 8, 7, 8, 10, 9, 2, 3, 5]\n",
      "swap:  [6, 1, 4, 8, 7, 8, 9, 10, 2, 3, 5]\n",
      "swap:  [6, 1, 4, 8, 7, 8, 9, 2, 10, 3, 5]\n",
      "swap:  [6, 1, 4, 8, 7, 8, 9, 2, 3, 10, 5]\n",
      "swap:  [6, 1, 4, 8, 7, 8, 9, 2, 3, 5, 10]\n",
      "iter [6, 1, 4, 8, 7, 8, 9, 2, 3, 5, 10]\n",
      "swap:  [1, 6, 4, 8, 7, 8, 9, 2, 3, 5, 10]\n",
      "swap:  [1, 4, 6, 8, 7, 8, 9, 2, 3, 5, 10]\n",
      "swap:  [1, 4, 6, 8, 7, 8, 9, 2, 3, 5, 10]\n",
      "swap:  [1, 4, 6, 7, 8, 8, 9, 2, 3, 5, 10]\n",
      "swap:  [1, 4, 6, 7, 8, 8, 9, 2, 3, 5, 10]\n",
      "swap:  [1, 4, 6, 7, 8, 8, 9, 2, 3, 5, 10]\n",
      "swap:  [1, 4, 6, 7, 8, 8, 2, 9, 3, 5, 10]\n",
      "swap:  [1, 4, 6, 7, 8, 8, 2, 3, 9, 5, 10]\n",
      "swap:  [1, 4, 6, 7, 8, 8, 2, 3, 5, 9, 10]\n",
      "swap:  [1, 4, 6, 7, 8, 8, 2, 3, 5, 9, 10]\n",
      "iter [1, 4, 6, 7, 8, 8, 2, 3, 5, 9, 10]\n",
      "swap:  [1, 4, 6, 7, 8, 8, 2, 3, 5, 9, 10]\n",
      "swap:  [1, 4, 6, 7, 8, 8, 2, 3, 5, 9, 10]\n",
      "swap:  [1, 4, 6, 7, 8, 8, 2, 3, 5, 9, 10]\n",
      "swap:  [1, 4, 6, 7, 8, 8, 2, 3, 5, 9, 10]\n",
      "swap:  [1, 4, 6, 7, 8, 8, 2, 3, 5, 9, 10]\n",
      "swap:  [1, 4, 6, 7, 8, 2, 8, 3, 5, 9, 10]\n",
      "swap:  [1, 4, 6, 7, 8, 2, 3, 8, 5, 9, 10]\n",
      "swap:  [1, 4, 6, 7, 8, 2, 3, 5, 8, 9, 10]\n",
      "swap:  [1, 4, 6, 7, 8, 2, 3, 5, 8, 9, 10]\n",
      "swap:  [1, 4, 6, 7, 8, 2, 3, 5, 8, 9, 10]\n",
      "iter [1, 4, 6, 7, 8, 2, 3, 5, 8, 9, 10]\n",
      "swap:  [1, 4, 6, 7, 8, 2, 3, 5, 8, 9, 10]\n",
      "swap:  [1, 4, 6, 7, 8, 2, 3, 5, 8, 9, 10]\n",
      "swap:  [1, 4, 6, 7, 8, 2, 3, 5, 8, 9, 10]\n",
      "swap:  [1, 4, 6, 7, 8, 2, 3, 5, 8, 9, 10]\n",
      "swap:  [1, 4, 6, 7, 2, 8, 3, 5, 8, 9, 10]\n",
      "swap:  [1, 4, 6, 7, 2, 3, 8, 5, 8, 9, 10]\n",
      "swap:  [1, 4, 6, 7, 2, 3, 5, 8, 8, 9, 10]\n",
      "swap:  [1, 4, 6, 7, 2, 3, 5, 8, 8, 9, 10]\n",
      "swap:  [1, 4, 6, 7, 2, 3, 5, 8, 8, 9, 10]\n",
      "swap:  [1, 4, 6, 7, 2, 3, 5, 8, 8, 9, 10]\n",
      "iter [1, 4, 6, 7, 2, 3, 5, 8, 8, 9, 10]\n",
      "swap:  [1, 4, 6, 7, 2, 3, 5, 8, 8, 9, 10]\n",
      "swap:  [1, 4, 6, 7, 2, 3, 5, 8, 8, 9, 10]\n",
      "swap:  [1, 4, 6, 7, 2, 3, 5, 8, 8, 9, 10]\n",
      "swap:  [1, 4, 6, 2, 7, 3, 5, 8, 8, 9, 10]\n",
      "swap:  [1, 4, 6, 2, 3, 7, 5, 8, 8, 9, 10]\n",
      "swap:  [1, 4, 6, 2, 3, 5, 7, 8, 8, 9, 10]\n",
      "swap:  [1, 4, 6, 2, 3, 5, 7, 8, 8, 9, 10]\n",
      "swap:  [1, 4, 6, 2, 3, 5, 7, 8, 8, 9, 10]\n",
      "swap:  [1, 4, 6, 2, 3, 5, 7, 8, 8, 9, 10]\n",
      "swap:  [1, 4, 6, 2, 3, 5, 7, 8, 8, 9, 10]\n",
      "iter [1, 4, 6, 2, 3, 5, 7, 8, 8, 9, 10]\n",
      "swap:  [1, 4, 6, 2, 3, 5, 7, 8, 8, 9, 10]\n",
      "swap:  [1, 4, 6, 2, 3, 5, 7, 8, 8, 9, 10]\n",
      "swap:  [1, 4, 2, 6, 3, 5, 7, 8, 8, 9, 10]\n",
      "swap:  [1, 4, 2, 3, 6, 5, 7, 8, 8, 9, 10]\n",
      "swap:  [1, 4, 2, 3, 5, 6, 7, 8, 8, 9, 10]\n",
      "swap:  [1, 4, 2, 3, 5, 6, 7, 8, 8, 9, 10]\n",
      "swap:  [1, 4, 2, 3, 5, 6, 7, 8, 8, 9, 10]\n",
      "swap:  [1, 4, 2, 3, 5, 6, 7, 8, 8, 9, 10]\n",
      "swap:  [1, 4, 2, 3, 5, 6, 7, 8, 8, 9, 10]\n",
      "swap:  [1, 4, 2, 3, 5, 6, 7, 8, 8, 9, 10]\n",
      "iter [1, 4, 2, 3, 5, 6, 7, 8, 8, 9, 10]\n",
      "swap:  [1, 4, 2, 3, 5, 6, 7, 8, 8, 9, 10]\n",
      "swap:  [1, 2, 4, 3, 5, 6, 7, 8, 8, 9, 10]\n",
      "swap:  [1, 2, 3, 4, 5, 6, 7, 8, 8, 9, 10]\n",
      "swap:  [1, 2, 3, 4, 5, 6, 7, 8, 8, 9, 10]\n",
      "swap:  [1, 2, 3, 4, 5, 6, 7, 8, 8, 9, 10]\n",
      "swap:  [1, 2, 3, 4, 5, 6, 7, 8, 8, 9, 10]\n",
      "swap:  [1, 2, 3, 4, 5, 6, 7, 8, 8, 9, 10]\n",
      "swap:  [1, 2, 3, 4, 5, 6, 7, 8, 8, 9, 10]\n",
      "swap:  [1, 2, 3, 4, 5, 6, 7, 8, 8, 9, 10]\n",
      "swap:  [1, 2, 3, 4, 5, 6, 7, 8, 8, 9, 10]\n",
      "iter [1, 2, 3, 4, 5, 6, 7, 8, 8, 9, 10]\n",
      "swap:  [1, 2, 3, 4, 5, 6, 7, 8, 8, 9, 10]\n",
      "swap:  [1, 2, 3, 4, 5, 6, 7, 8, 8, 9, 10]\n",
      "swap:  [1, 2, 3, 4, 5, 6, 7, 8, 8, 9, 10]\n",
      "swap:  [1, 2, 3, 4, 5, 6, 7, 8, 8, 9, 10]\n",
      "swap:  [1, 2, 3, 4, 5, 6, 7, 8, 8, 9, 10]\n",
      "swap:  [1, 2, 3, 4, 5, 6, 7, 8, 8, 9, 10]\n",
      "swap:  [1, 2, 3, 4, 5, 6, 7, 8, 8, 9, 10]\n",
      "swap:  [1, 2, 3, 4, 5, 6, 7, 8, 8, 9, 10]\n",
      "swap:  [1, 2, 3, 4, 5, 6, 7, 8, 8, 9, 10]\n",
      "swap:  [1, 2, 3, 4, 5, 6, 7, 8, 8, 9, 10]\n",
      "iter [1, 2, 3, 4, 5, 6, 7, 8, 8, 9, 10]\n"
     ]
    }
   ],
   "source": [
    "def bubble_sort(arr):\n",
    "    swap_happened = True\n",
    "    while(swap_happened):\n",
    "        swap_happened = False\n",
    "        for i in range(len(arr)-1):\n",
    "            if(arr[i] > arr[i+1]):\n",
    "                swap_happened = True\n",
    "                arr[i],arr[i+1] = arr[i+1],arr[i]\n",
    "            print(\"swap: \",arr)\n",
    "        print(\"iter\",arr)\n",
    "    \n",
    "\n",
    "l1 = [6,8,1,4,10,7,8,9,2,3,5]\n",
    "bubble_sort(l1)"
   ]
  },
  {
   "cell_type": "markdown",
   "metadata": {},
   "source": [
    "### Selection Sort O(n^2)"
   ]
  },
  {
   "cell_type": "code",
   "execution_count": 53,
   "metadata": {},
   "outputs": [
    {
     "name": "stdout",
     "output_type": "stream",
     "text": [
      "swap happened\n",
      "[1, 8, 6, 4, 10, 7, 8, 9, 2, 3, 5]\n",
      "outer: [1, 8, 6, 4, 10, 7, 8, 9, 2, 3, 5]\n",
      "swap happened\n",
      "[1, 6, 8, 4, 10, 7, 8, 9, 2, 3, 5]\n",
      "swap happened\n",
      "[1, 4, 8, 6, 10, 7, 8, 9, 2, 3, 5]\n",
      "swap happened\n",
      "[1, 2, 8, 6, 10, 7, 8, 9, 4, 3, 5]\n",
      "outer: [1, 2, 8, 6, 10, 7, 8, 9, 4, 3, 5]\n",
      "swap happened\n",
      "[1, 2, 6, 8, 10, 7, 8, 9, 4, 3, 5]\n",
      "swap happened\n",
      "[1, 2, 4, 8, 10, 7, 8, 9, 6, 3, 5]\n",
      "swap happened\n",
      "[1, 2, 3, 8, 10, 7, 8, 9, 6, 4, 5]\n",
      "outer: [1, 2, 3, 8, 10, 7, 8, 9, 6, 4, 5]\n",
      "swap happened\n",
      "[1, 2, 3, 7, 10, 8, 8, 9, 6, 4, 5]\n",
      "swap happened\n",
      "[1, 2, 3, 6, 10, 8, 8, 9, 7, 4, 5]\n",
      "swap happened\n",
      "[1, 2, 3, 4, 10, 8, 8, 9, 7, 6, 5]\n",
      "outer: [1, 2, 3, 4, 10, 8, 8, 9, 7, 6, 5]\n",
      "swap happened\n",
      "[1, 2, 3, 4, 8, 10, 8, 9, 7, 6, 5]\n",
      "swap happened\n",
      "[1, 2, 3, 4, 7, 10, 8, 9, 8, 6, 5]\n",
      "swap happened\n",
      "[1, 2, 3, 4, 6, 10, 8, 9, 8, 7, 5]\n",
      "swap happened\n",
      "[1, 2, 3, 4, 5, 10, 8, 9, 8, 7, 6]\n",
      "outer: [1, 2, 3, 4, 5, 10, 8, 9, 8, 7, 6]\n",
      "swap happened\n",
      "[1, 2, 3, 4, 5, 8, 10, 9, 8, 7, 6]\n",
      "swap happened\n",
      "[1, 2, 3, 4, 5, 7, 10, 9, 8, 8, 6]\n",
      "swap happened\n",
      "[1, 2, 3, 4, 5, 6, 10, 9, 8, 8, 7]\n",
      "outer: [1, 2, 3, 4, 5, 6, 10, 9, 8, 8, 7]\n",
      "swap happened\n",
      "[1, 2, 3, 4, 5, 6, 9, 10, 8, 8, 7]\n",
      "swap happened\n",
      "[1, 2, 3, 4, 5, 6, 8, 10, 9, 8, 7]\n",
      "swap happened\n",
      "[1, 2, 3, 4, 5, 6, 7, 10, 9, 8, 8]\n",
      "outer: [1, 2, 3, 4, 5, 6, 7, 10, 9, 8, 8]\n",
      "swap happened\n",
      "[1, 2, 3, 4, 5, 6, 7, 9, 10, 8, 8]\n",
      "swap happened\n",
      "[1, 2, 3, 4, 5, 6, 7, 8, 10, 9, 8]\n",
      "outer: [1, 2, 3, 4, 5, 6, 7, 8, 10, 9, 8]\n",
      "swap happened\n",
      "[1, 2, 3, 4, 5, 6, 7, 8, 9, 10, 8]\n",
      "swap happened\n",
      "[1, 2, 3, 4, 5, 6, 7, 8, 8, 10, 9]\n",
      "outer: [1, 2, 3, 4, 5, 6, 7, 8, 8, 10, 9]\n",
      "swap happened\n",
      "[1, 2, 3, 4, 5, 6, 7, 8, 8, 9, 10]\n",
      "outer: [1, 2, 3, 4, 5, 6, 7, 8, 8, 9, 10]\n",
      "outer: [1, 2, 3, 4, 5, 6, 7, 8, 8, 9, 10]\n"
     ]
    }
   ],
   "source": [
    "def selection_sort(arr):\n",
    "    for outer_marker in range(len(arr)):\n",
    "        for inner in range(outer_marker,len(arr)):\n",
    "            if arr[outer_marker] > arr[inner]:\n",
    "                print(\"swap happened\")\n",
    "                arr[outer_marker] , arr[inner] = arr[inner] , arr[outer_marker]\n",
    "                print(arr)\n",
    "        print(\"outer:\",arr)\n",
    "\n",
    "l1 = [6,8,1,4,10,7,8,9,2,3,5]\n",
    "selection_sort(l1)"
   ]
  },
  {
   "cell_type": "markdown",
   "metadata": {},
   "source": [
    "### Insertion Sort O(n^2)"
   ]
  },
  {
   "cell_type": "code",
   "execution_count": 51,
   "metadata": {},
   "outputs": [
    {
     "name": "stdout",
     "output_type": "stream",
     "text": [
      "key:1,curr:1 [6, 1, 8, 4, 10]\n",
      "swapped\n",
      "[1, 6, 8, 4, 10]\n",
      "key:2,curr:2 [1, 6, 8, 4, 10]\n",
      "[1, 6, 8, 4, 10]\n",
      "key:3,curr:3 [1, 6, 8, 4, 10]\n",
      "swapped\n",
      "key:3,curr:2 [1, 6, 4, 8, 10]\n",
      "swapped\n",
      "key:3,curr:1 [1, 4, 6, 8, 10]\n",
      "[1, 4, 6, 8, 10]\n",
      "key:4,curr:4 [1, 4, 6, 8, 10]\n",
      "[1, 4, 6, 8, 10]\n"
     ]
    }
   ],
   "source": [
    "def insertion_sort(arr):\n",
    "    for key in range(1,len(arr)):\n",
    "        curr = key\n",
    "        for i in range(key):\n",
    "            print(f'key:{key},curr:{curr}',arr)\n",
    "            if arr[curr]<arr[curr-1]:\n",
    "                print(\"swapped\")\n",
    "                arr[curr],arr[curr-1] = arr[curr-1],arr[curr]\n",
    "                curr = curr-1\n",
    "            else:\n",
    "                break\n",
    "        print(arr)\n",
    "        \n",
    "\n",
    "l1 = [6,1,8,4,10]\n",
    "insertion_sort(l1)"
   ]
  },
  {
   "cell_type": "code",
   "execution_count": 52,
   "metadata": {},
   "outputs": [
    {
     "name": "stdout",
     "output_type": "stream",
     "text": [
      "key:1,curr:1 [6, 8, 1, 4, 10, 7, 8, 9, 2, 3, 5]\n",
      "[6, 8, 1, 4, 10, 7, 8, 9, 2, 3, 5]\n",
      "key:2,curr:2 [6, 8, 1, 4, 10, 7, 8, 9, 2, 3, 5]\n",
      "swapped\n",
      "key:2,curr:1 [6, 1, 8, 4, 10, 7, 8, 9, 2, 3, 5]\n",
      "swapped\n",
      "[1, 6, 8, 4, 10, 7, 8, 9, 2, 3, 5]\n",
      "key:3,curr:3 [1, 6, 8, 4, 10, 7, 8, 9, 2, 3, 5]\n",
      "swapped\n",
      "key:3,curr:2 [1, 6, 4, 8, 10, 7, 8, 9, 2, 3, 5]\n",
      "swapped\n",
      "key:3,curr:1 [1, 4, 6, 8, 10, 7, 8, 9, 2, 3, 5]\n",
      "[1, 4, 6, 8, 10, 7, 8, 9, 2, 3, 5]\n",
      "key:4,curr:4 [1, 4, 6, 8, 10, 7, 8, 9, 2, 3, 5]\n",
      "[1, 4, 6, 8, 10, 7, 8, 9, 2, 3, 5]\n",
      "key:5,curr:5 [1, 4, 6, 8, 10, 7, 8, 9, 2, 3, 5]\n",
      "swapped\n",
      "key:5,curr:4 [1, 4, 6, 8, 7, 10, 8, 9, 2, 3, 5]\n",
      "swapped\n",
      "key:5,curr:3 [1, 4, 6, 7, 8, 10, 8, 9, 2, 3, 5]\n",
      "[1, 4, 6, 7, 8, 10, 8, 9, 2, 3, 5]\n",
      "key:6,curr:6 [1, 4, 6, 7, 8, 10, 8, 9, 2, 3, 5]\n",
      "swapped\n",
      "key:6,curr:5 [1, 4, 6, 7, 8, 8, 10, 9, 2, 3, 5]\n",
      "[1, 4, 6, 7, 8, 8, 10, 9, 2, 3, 5]\n",
      "key:7,curr:7 [1, 4, 6, 7, 8, 8, 10, 9, 2, 3, 5]\n",
      "swapped\n",
      "key:7,curr:6 [1, 4, 6, 7, 8, 8, 9, 10, 2, 3, 5]\n",
      "[1, 4, 6, 7, 8, 8, 9, 10, 2, 3, 5]\n",
      "key:8,curr:8 [1, 4, 6, 7, 8, 8, 9, 10, 2, 3, 5]\n",
      "swapped\n",
      "key:8,curr:7 [1, 4, 6, 7, 8, 8, 9, 2, 10, 3, 5]\n",
      "swapped\n",
      "key:8,curr:6 [1, 4, 6, 7, 8, 8, 2, 9, 10, 3, 5]\n",
      "swapped\n",
      "key:8,curr:5 [1, 4, 6, 7, 8, 2, 8, 9, 10, 3, 5]\n",
      "swapped\n",
      "key:8,curr:4 [1, 4, 6, 7, 2, 8, 8, 9, 10, 3, 5]\n",
      "swapped\n",
      "key:8,curr:3 [1, 4, 6, 2, 7, 8, 8, 9, 10, 3, 5]\n",
      "swapped\n",
      "key:8,curr:2 [1, 4, 2, 6, 7, 8, 8, 9, 10, 3, 5]\n",
      "swapped\n",
      "key:8,curr:1 [1, 2, 4, 6, 7, 8, 8, 9, 10, 3, 5]\n",
      "[1, 2, 4, 6, 7, 8, 8, 9, 10, 3, 5]\n",
      "key:9,curr:9 [1, 2, 4, 6, 7, 8, 8, 9, 10, 3, 5]\n",
      "swapped\n",
      "key:9,curr:8 [1, 2, 4, 6, 7, 8, 8, 9, 3, 10, 5]\n",
      "swapped\n",
      "key:9,curr:7 [1, 2, 4, 6, 7, 8, 8, 3, 9, 10, 5]\n",
      "swapped\n",
      "key:9,curr:6 [1, 2, 4, 6, 7, 8, 3, 8, 9, 10, 5]\n",
      "swapped\n",
      "key:9,curr:5 [1, 2, 4, 6, 7, 3, 8, 8, 9, 10, 5]\n",
      "swapped\n",
      "key:9,curr:4 [1, 2, 4, 6, 3, 7, 8, 8, 9, 10, 5]\n",
      "swapped\n",
      "key:9,curr:3 [1, 2, 4, 3, 6, 7, 8, 8, 9, 10, 5]\n",
      "swapped\n",
      "key:9,curr:2 [1, 2, 3, 4, 6, 7, 8, 8, 9, 10, 5]\n",
      "[1, 2, 3, 4, 6, 7, 8, 8, 9, 10, 5]\n",
      "key:10,curr:10 [1, 2, 3, 4, 6, 7, 8, 8, 9, 10, 5]\n",
      "swapped\n",
      "key:10,curr:9 [1, 2, 3, 4, 6, 7, 8, 8, 9, 5, 10]\n",
      "swapped\n",
      "key:10,curr:8 [1, 2, 3, 4, 6, 7, 8, 8, 5, 9, 10]\n",
      "swapped\n",
      "key:10,curr:7 [1, 2, 3, 4, 6, 7, 8, 5, 8, 9, 10]\n",
      "swapped\n",
      "key:10,curr:6 [1, 2, 3, 4, 6, 7, 5, 8, 8, 9, 10]\n",
      "swapped\n",
      "key:10,curr:5 [1, 2, 3, 4, 6, 5, 7, 8, 8, 9, 10]\n",
      "swapped\n",
      "key:10,curr:4 [1, 2, 3, 4, 5, 6, 7, 8, 8, 9, 10]\n",
      "[1, 2, 3, 4, 5, 6, 7, 8, 8, 9, 10]\n"
     ]
    }
   ],
   "source": [
    "l2 = [6,8,1,4,10,7,8,9,2,3,5]\n",
    "insertion_sort(l2)"
   ]
  },
  {
   "cell_type": "markdown",
   "metadata": {},
   "source": [
    "### Merge Sort O(nlog(n))"
   ]
  },
  {
   "cell_type": "markdown",
   "metadata": {},
   "source": [
    "log(n) - log to base 2 - for divide and conquer"
   ]
  },
  {
   "cell_type": "code",
   "execution_count": 32,
   "metadata": {},
   "outputs": [
    {
     "name": "stdout",
     "output_type": "stream",
     "text": [
      "merge called with lists: \n",
      "left - [1, 4, 6, 8, 10] and right - [2, 3, 5, 7, 8, 9]\n",
      "merged list: [1, 2, 3, 4, 5, 6, 7, 8, 8, 9, 10]\n"
     ]
    }
   ],
   "source": [
    "def merge_sorted(arr1,arr2):\n",
    "    print(f\"merge called with lists: \\nleft - {arr1} and right - {arr2}\")\n",
    "    sorted_arr = []\n",
    "    i,j=0,0\n",
    "    while(i<len(arr1) and j<len(arr2)):\n",
    "#         print(f\"left index {i}, value: {arr1[i]} \\nright index {j}, value: {arr2[j]}\")\n",
    "        if arr1[i]<arr2[j]:\n",
    "            sorted_arr.append(arr1[i])\n",
    "            i+=1\n",
    "        else:\n",
    "            sorted_arr.append(arr2[j])\n",
    "            j+=1\n",
    "#         print(sorted_arr,i,len(arr1),j,len(arr2))\n",
    "    for l in range(i,len(arr1)):\n",
    "        sorted_arr.append(arr1[l])\n",
    "    for l in range(j,len(arr2)):\n",
    "        sorted_arr.append(arr2[l])\n",
    "    \n",
    "#while instead of above used for:   \n",
    "#     while i<len(arr1):\n",
    "#         sorted_arr.append(arr1[i])\n",
    "#         i+=1\n",
    "#     while j<len(arr2):\n",
    "#         sorted_arr.append(arr2[j])\n",
    "#         j+=1\n",
    "    \n",
    "    return sorted_arr\n",
    "    \n",
    "    \n",
    "    \n",
    "l1=[1,4,6,8,10]\n",
    "l2=[2,3,5,7,8,9]\n",
    "print(f\"merged list: {merge_sorted(l1,l2)}\")"
   ]
  },
  {
   "cell_type": "code",
   "execution_count": 33,
   "metadata": {},
   "outputs": [
    {
     "name": "stdout",
     "output_type": "stream",
     "text": [
      "left split: [6, 8, 1, 4, 10] \n",
      "right split: [7, 8, 9, 2, 3, 5]\n",
      "left split: [6, 8] \n",
      "right split: [1, 4, 10]\n",
      "left split: [6] \n",
      "right split: [8]\n",
      "base condition reached with arr: [6]\n",
      "base condition reached with arr: [8]\n",
      "left split: [1] \n",
      "right split: [4, 10]\n",
      "base condition reached with arr: [1]\n",
      "left split: [4] \n",
      "right split: [10]\n",
      "base condition reached with arr: [4]\n",
      "base condition reached with arr: [10]\n",
      "left split: [7, 8, 9] \n",
      "right split: [2, 3, 5]\n",
      "left split: [7] \n",
      "right split: [8, 9]\n",
      "base condition reached with arr: [7]\n",
      "left split: [8] \n",
      "right split: [9]\n",
      "base condition reached with arr: [8]\n",
      "base condition reached with arr: [9]\n",
      "left split: [2] \n",
      "right split: [3, 5]\n",
      "base condition reached with arr: [2]\n",
      "left split: [3] \n",
      "right split: [5]\n",
      "base condition reached with arr: [3]\n",
      "base condition reached with arr: [5]\n",
      "None\n"
     ]
    }
   ],
   "source": [
    "def divide_arr(arr):\n",
    "    if len(arr)<2:\n",
    "        print(f\"base condition reached with arr: {arr[:]}\")\n",
    "        return arr[:]\n",
    "    else:\n",
    "        mid = len(arr)//2\n",
    "        print(f\"left split: {arr[:mid]} \\nright split: {arr[mid:]}\")\n",
    "        l = divide_arr(arr[:mid])\n",
    "        r = divide_arr(arr[mid:])\n",
    "            \n",
    "l1 = [6, 8, 1, 4, 10, 7, 8, 9, 2, 3, 5]\n",
    "print(divide_arr(l1))"
   ]
  },
  {
   "cell_type": "markdown",
   "metadata": {},
   "source": [
    "#### Recursion tasks"
   ]
  },
  {
   "cell_type": "code",
   "execution_count": 41,
   "metadata": {},
   "outputs": [
    {
     "name": "stdout",
     "output_type": "stream",
     "text": [
      "7\n",
      "6\n",
      "5\n",
      "4\n",
      "3\n",
      "2\n",
      "1\n"
     ]
    }
   ],
   "source": [
    "# Countdown timer\n",
    "import time\n",
    "def timer(n):\n",
    "    if n < 1:\n",
    "        return\n",
    "    else:\n",
    "        print(n)\n",
    "        time.sleep(1)\n",
    "        timer(n-1)\n",
    "        \n",
    "timer(7)"
   ]
  },
  {
   "cell_type": "code",
   "execution_count": 42,
   "metadata": {},
   "outputs": [
    {
     "data": {
      "text/plain": [
       "120"
      ]
     },
     "execution_count": 42,
     "metadata": {},
     "output_type": "execute_result"
    }
   ],
   "source": [
    "# Factorial\n",
    "\n",
    "def factorial(n):\n",
    "    if n==0:\n",
    "        return 1\n",
    "    else:\n",
    "        return n*factorial(n-1)\n",
    "        \n",
    "factorial(5)"
   ]
  },
  {
   "cell_type": "code",
   "execution_count": 53,
   "metadata": {},
   "outputs": [
    {
     "name": "stdout",
     "output_type": "stream",
     "text": [
      "8\n",
      "__________\n",
      "0\n",
      "1\n",
      "1\n",
      "2\n",
      "3\n",
      "5\n",
      "__________\n",
      "0\n",
      "1\n",
      "1\n",
      "2\n",
      "3\n"
     ]
    }
   ],
   "source": [
    "# nth num in fibonacci\n",
    "\n",
    "def fibo(n):\n",
    "    if n==0:\n",
    "        return 0\n",
    "    if n==1:\n",
    "        return 1\n",
    "    else:\n",
    "        return fibo(n-1)+fibo(n-2)\n",
    "    \n",
    "print(fibo(6))\n",
    "\n",
    "print(\"_\"*10)\n",
    "\n",
    "#fibonacci print till nth val\n",
    "n = 6\n",
    "for i in range(0,n):\n",
    "    print(fibo(i))\n",
    "\n",
    "print(\"_\"*10)\n",
    "\n",
    "n = 5\n",
    "i,j=0,1\n",
    "print(i)\n",
    "print(j)\n",
    "for num in range(0,n-2):\n",
    "    sum = i+j\n",
    "    print(sum)\n",
    "    i,j=j,sum\n",
    "    "
   ]
  },
  {
   "cell_type": "code",
   "execution_count": 85,
   "metadata": {},
   "outputs": [
    {
     "name": "stdout",
     "output_type": "stream",
     "text": [
      "left split: [6, 8, 1, 4, 10] \n",
      "right split: [7, 8, 9, 2, 3, 5]\n",
      "left split: [6, 8] \n",
      "right split: [1, 4, 10]\n",
      "left split: [6] \n",
      "right split: [8]\n",
      "base condition reached with arr: [6]\n",
      "base condition reached with arr: [8]\n",
      "merge called with lists: \n",
      "left - [6] and right - [8]\n",
      "left index 0, value: 6 \n",
      "right index 0, value: 8\n",
      "sorted arr: [6]\n",
      "sorted arr: [6, 8]\n",
      "left split: [1] \n",
      "right split: [4, 10]\n",
      "base condition reached with arr: [1]\n",
      "left split: [4] \n",
      "right split: [10]\n",
      "base condition reached with arr: [4]\n",
      "base condition reached with arr: [10]\n",
      "merge called with lists: \n",
      "left - [4] and right - [10]\n",
      "left index 0, value: 4 \n",
      "right index 0, value: 10\n",
      "sorted arr: [4]\n",
      "sorted arr: [4, 10]\n",
      "merge called with lists: \n",
      "left - [1] and right - [4, 10]\n",
      "left index 0, value: 1 \n",
      "right index 0, value: 4\n",
      "sorted arr: [1]\n",
      "sorted arr: [1, 4, 10]\n",
      "merge called with lists: \n",
      "left - [6, 8] and right - [1, 4, 10]\n",
      "left index 0, value: 6 \n",
      "right index 0, value: 1\n",
      "sorted arr: [1]\n",
      "left index 0, value: 6 \n",
      "right index 1, value: 4\n",
      "sorted arr: [1, 4]\n",
      "left index 0, value: 6 \n",
      "right index 2, value: 10\n",
      "sorted arr: [1, 4, 6]\n",
      "left index 1, value: 8 \n",
      "right index 2, value: 10\n",
      "sorted arr: [1, 4, 6, 8]\n",
      "sorted arr: [1, 4, 6, 8, 10]\n",
      "left split: [7, 8, 9] \n",
      "right split: [2, 3, 5]\n",
      "left split: [7] \n",
      "right split: [8, 9]\n",
      "base condition reached with arr: [7]\n",
      "left split: [8] \n",
      "right split: [9]\n",
      "base condition reached with arr: [8]\n",
      "base condition reached with arr: [9]\n",
      "merge called with lists: \n",
      "left - [8] and right - [9]\n",
      "left index 0, value: 8 \n",
      "right index 0, value: 9\n",
      "sorted arr: [8]\n",
      "sorted arr: [8, 9]\n",
      "merge called with lists: \n",
      "left - [7] and right - [8, 9]\n",
      "left index 0, value: 7 \n",
      "right index 0, value: 8\n",
      "sorted arr: [7]\n",
      "sorted arr: [7, 8, 9]\n",
      "left split: [2] \n",
      "right split: [3, 5]\n",
      "base condition reached with arr: [2]\n",
      "left split: [3] \n",
      "right split: [5]\n",
      "base condition reached with arr: [3]\n",
      "base condition reached with arr: [5]\n",
      "merge called with lists: \n",
      "left - [3] and right - [5]\n",
      "left index 0, value: 3 \n",
      "right index 0, value: 5\n",
      "sorted arr: [3]\n",
      "sorted arr: [3, 5]\n",
      "merge called with lists: \n",
      "left - [2] and right - [3, 5]\n",
      "left index 0, value: 2 \n",
      "right index 0, value: 3\n",
      "sorted arr: [2]\n",
      "sorted arr: [2, 3, 5]\n",
      "merge called with lists: \n",
      "left - [7, 8, 9] and right - [2, 3, 5]\n",
      "left index 0, value: 7 \n",
      "right index 0, value: 2\n",
      "sorted arr: [2]\n",
      "left index 0, value: 7 \n",
      "right index 1, value: 3\n",
      "sorted arr: [2, 3]\n",
      "left index 0, value: 7 \n",
      "right index 2, value: 5\n",
      "sorted arr: [2, 3, 5]\n",
      "sorted arr: [2, 3, 5, 7, 8, 9]\n",
      "merge called with lists: \n",
      "left - [1, 4, 6, 8, 10] and right - [2, 3, 5, 7, 8, 9]\n",
      "left index 0, value: 1 \n",
      "right index 0, value: 2\n",
      "sorted arr: [1]\n",
      "left index 1, value: 4 \n",
      "right index 0, value: 2\n",
      "sorted arr: [1, 2]\n",
      "left index 1, value: 4 \n",
      "right index 1, value: 3\n",
      "sorted arr: [1, 2, 3]\n",
      "left index 1, value: 4 \n",
      "right index 2, value: 5\n",
      "sorted arr: [1, 2, 3, 4]\n",
      "left index 2, value: 6 \n",
      "right index 2, value: 5\n",
      "sorted arr: [1, 2, 3, 4, 5]\n",
      "left index 2, value: 6 \n",
      "right index 3, value: 7\n",
      "sorted arr: [1, 2, 3, 4, 5, 6]\n",
      "left index 3, value: 8 \n",
      "right index 3, value: 7\n",
      "sorted arr: [1, 2, 3, 4, 5, 6, 7]\n",
      "left index 3, value: 8 \n",
      "right index 4, value: 8\n",
      "sorted arr: [1, 2, 3, 4, 5, 6, 7, 8]\n",
      "left index 3, value: 8 \n",
      "right index 5, value: 9\n",
      "sorted arr: [1, 2, 3, 4, 5, 6, 7, 8, 8]\n",
      "left index 4, value: 10 \n",
      "right index 5, value: 9\n",
      "sorted arr: [1, 2, 3, 4, 5, 6, 7, 8, 8, 9]\n",
      "sorted arr: [1, 2, 3, 4, 5, 6, 7, 8, 8, 9, 10]\n",
      "merge sorted list: [1, 2, 3, 4, 5, 6, 7, 8, 8, 9, 10]\n"
     ]
    }
   ],
   "source": [
    "## Complete Merge Sort\n",
    "\n",
    "def merge_sorted(arr1,arr2):\n",
    "    print(f\"merge called with lists: \\nleft - {arr1} and right - {arr2}\")\n",
    "    sorted_arr = []\n",
    "    i,j=0,0\n",
    "    while(i<len(arr1) and j<len(arr2)):\n",
    "        print(f\"left index {i}, value: {arr1[i]} \\nright index {j}, value: {arr2[j]}\")\n",
    "        if arr1[i]<arr2[j]:\n",
    "            sorted_arr.append(arr1[i])\n",
    "            i+=1\n",
    "        else:\n",
    "            sorted_arr.append(arr2[j])\n",
    "            j+=1\n",
    "        print(f\"sorted arr: {sorted_arr}\")\n",
    "    while i<len(arr1):\n",
    "        sorted_arr.append(arr1[i])\n",
    "        i+=1\n",
    "    while j<len(arr2):\n",
    "        sorted_arr.append(arr2[j])\n",
    "        j+=1\n",
    "    print(f\"sorted arr: {sorted_arr}\")\n",
    "    \n",
    "    return sorted_arr\n",
    "    \n",
    " \n",
    "def divide_arr(arr):\n",
    "    if len(arr)<2:\n",
    "        print(f\"base condition reached with arr: {arr[:]}\")\n",
    "        return arr[:]\n",
    "    else:\n",
    "        mid = len(arr)//2\n",
    "        print(f\"left split: {arr[:mid]} \\nright split: {arr[mid:]}\")\n",
    "        l = divide_arr(arr[:mid])\n",
    "        r = divide_arr(arr[mid:])\n",
    "        return merge_sorted(l,r)\n",
    "            \n",
    "l1 = [6, 8, 1, 4, 10, 7, 8, 9, 2, 3, 5]\n",
    "print(f\"merge sorted list: {divide_arr(l1)}\")"
   ]
  },
  {
   "cell_type": "markdown",
   "metadata": {},
   "source": [
    "### Quick sort O(nlog(n))"
   ]
  },
  {
   "cell_type": "markdown",
   "metadata": {},
   "source": [
    "Worst case - O(n^2) - very rarely happens "
   ]
  },
  {
   "cell_type": "code",
   "execution_count": 65,
   "metadata": {},
   "outputs": [
    {
     "data": {
      "text/plain": [
       "[1, 2, 3, 4, 5, 6, 7, 8, 8, 9, 10]"
      ]
     },
     "execution_count": 65,
     "metadata": {},
     "output_type": "execute_result"
    }
   ],
   "source": [
    "# not in place\n",
    "def quick_sort(arr):\n",
    "    if len(arr) < 2 :\n",
    "        return arr[:]\n",
    "    else:\n",
    "        pivot = arr[-1] #could be first, last or mid or anything\n",
    "        l,eq,r = [],[],[]\n",
    "        for i in arr:\n",
    "            if i < pivot:\n",
    "                l.append(i)\n",
    "            elif i == pivot:\n",
    "                eq.append(i)\n",
    "            else:\n",
    "                r.append(i)\n",
    "        return quick_sort(l)+eq+quick_sort(r)\n",
    "\n",
    "l1 = [6, 8, 1, 4, 10, 7, 8, 9, 2, 3, 5]\n",
    "quick_sort(l1)"
   ]
  },
  {
   "cell_type": "markdown",
   "metadata": {},
   "source": [
    "## Search Algorithms"
   ]
  },
  {
   "cell_type": "markdown",
   "metadata": {},
   "source": [
    "### Binary Search/Bisection Search"
   ]
  },
  {
   "cell_type": "code",
   "execution_count": 30,
   "metadata": {},
   "outputs": [],
   "source": [
    "def create_list(max_val):\n",
    "    arr =  []\n",
    "    for num in range(1,max_val+1):\n",
    "        arr.append(num)\n",
    "    return arr"
   ]
  },
  {
   "cell_type": "code",
   "execution_count": 31,
   "metadata": {},
   "outputs": [
    {
     "name": "stdout",
     "output_type": "stream",
     "text": [
      "Element found at index 22\n"
     ]
    }
   ],
   "source": [
    "def bin_search(n,arr):\n",
    "    start = 0\n",
    "    stop = len(arr)-1\n",
    "    mid = (start+stop)//2\n",
    "    while(start<=stop):\n",
    "        if arr[mid] == n:\n",
    "            return f\"Element found at index {mid}\"\n",
    "        elif arr[mid] > n:\n",
    "            stop = mid - 1\n",
    "        else:\n",
    "            start = mid + 1\n",
    "        mid = (start+stop)//2\n",
    "    return f\"Element {n} not found\"\n",
    "    \n",
    "num_to_search = 23\n",
    "l = create_list(50)\n",
    "print(bin_search(num_to_search,l))"
   ]
  },
  {
   "cell_type": "code",
   "execution_count": 32,
   "metadata": {},
   "outputs": [
    {
     "name": "stdout",
     "output_type": "stream",
     "text": [
      "Element at index 12\n"
     ]
    }
   ],
   "source": [
    "#recursive\n",
    "def bin_search(n,arr,start,stop):\n",
    "    mid = (start+stop)//2\n",
    "    if start > stop:\n",
    "        return f\"Element not found\"\n",
    "    if arr[mid] == n:\n",
    "        return f\"Element at index {mid}\"\n",
    "    elif arr[mid] > n:\n",
    "        stop = mid - 1\n",
    "        return bin_search(n,arr,start,stop)\n",
    "    else:\n",
    "        start = mid + 1\n",
    "        return bin_search(n,arr,start,stop)\n",
    "    \n",
    "num_to_search = 13\n",
    "l = create_list(100)\n",
    "print(bin_search(num_to_search,l,0,len(l)-1))"
   ]
  },
  {
   "cell_type": "code",
   "execution_count": null,
   "metadata": {},
   "outputs": [],
   "source": []
  },
  {
   "cell_type": "code",
   "execution_count": null,
   "metadata": {},
   "outputs": [],
   "source": []
  },
  {
   "cell_type": "code",
   "execution_count": null,
   "metadata": {},
   "outputs": [],
   "source": []
  }
 ],
 "metadata": {
  "kernelspec": {
   "display_name": "Python 3",
   "language": "python",
   "name": "python3"
  },
  "language_info": {
   "codemirror_mode": {
    "name": "ipython",
    "version": 3
   },
   "file_extension": ".py",
   "mimetype": "text/x-python",
   "name": "python",
   "nbconvert_exporter": "python",
   "pygments_lexer": "ipython3",
   "version": "3.7.1"
  }
 },
 "nbformat": 4,
 "nbformat_minor": 2
}

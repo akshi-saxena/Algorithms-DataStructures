{
 "cells": [
  {
   "cell_type": "code",
   "execution_count": 1,
   "metadata": {},
   "outputs": [],
   "source": [
    "import time\n",
    "from random import choice\n",
    "from string import ascii_lowercase as letters"
   ]
  },
  {
   "cell_type": "code",
   "execution_count": 2,
   "metadata": {},
   "outputs": [],
   "source": [
    "def bin_search(n,arr):\n",
    "    start = 0\n",
    "    stop = len(arr)-1\n",
    "    mid = (start+stop)//2\n",
    "    while(start<=stop):\n",
    "        if arr[mid] == n:\n",
    "            return f\"Element {n} found at index {mid}\"\n",
    "        elif arr[mid] > n:\n",
    "            stop = mid - 1\n",
    "        else:\n",
    "            start = mid + 1\n",
    "        mid = (start+stop)//2\n",
    "    return f\"Element {n} not found\""
   ]
  },
  {
   "cell_type": "code",
   "execution_count": 13,
   "metadata": {},
   "outputs": [],
   "source": [
    "def analyze(funcname,*args):\n",
    "    start = time.time()\n",
    "    funcname(*args)\n",
    "    end = time.time()\n",
    "    t = (end - start)\n",
    "    print(f\"{funcname.__name__.capitalize()} \\t Elapsed time: {t} seconds\")"
   ]
  },
  {
   "cell_type": "code",
   "execution_count": 4,
   "metadata": {},
   "outputs": [],
   "source": [
    "def generate_name(len_of_name):\n",
    "    return \"\".join(choice(letters) for i in range(len_of_name))"
   ]
  },
  {
   "cell_type": "code",
   "execution_count": 5,
   "metadata": {},
   "outputs": [],
   "source": [
    "def get_domain(list_of_domains):\n",
    "    return choice(list_of_domains)"
   ]
  },
  {
   "cell_type": "code",
   "execution_count": 6,
   "metadata": {},
   "outputs": [],
   "source": [
    "def generate_emails(len_of_name,list_of_domains,total_emails):\n",
    "    emails = []\n",
    "    for i in range(total_emails):\n",
    "        emails.append(generate_name(len_of_name)+\"@\"+get_domain(list_of_domains))\n",
    "    return emails"
   ]
  },
  {
   "cell_type": "code",
   "execution_count": 7,
   "metadata": {},
   "outputs": [],
   "source": [
    "list_of_domains = [\"gmail.com\",\"yahoo.com\",\"rediffmail.com\",\"hotmail.com\"]\n",
    "email_li = generate_emails(10,list_of_domains,100000)\n",
    "email_li.append(\"blehhead@gmail.com\")"
   ]
  },
  {
   "cell_type": "code",
   "execution_count": 8,
   "metadata": {},
   "outputs": [],
   "source": [
    "sorted_email = sorted(email_li)"
   ]
  },
  {
   "cell_type": "code",
   "execution_count": 9,
   "metadata": {},
   "outputs": [
    {
     "data": {
      "text/plain": [
       "'Element blehhead@gmail.com found at index 5559'"
      ]
     },
     "execution_count": 9,
     "metadata": {},
     "output_type": "execute_result"
    }
   ],
   "source": [
    "ele_to_find = \"blehhead@gmail.com\"\n",
    "bin_search(ele_to_find,sorted_email)"
   ]
  },
  {
   "cell_type": "code",
   "execution_count": 10,
   "metadata": {},
   "outputs": [
    {
     "data": {
      "text/plain": [
       "'blehhead@gmail.com'"
      ]
     },
     "execution_count": 10,
     "metadata": {},
     "output_type": "execute_result"
    }
   ],
   "source": [
    "sorted_email[5559]"
   ]
  },
  {
   "cell_type": "code",
   "execution_count": 14,
   "metadata": {},
   "outputs": [
    {
     "name": "stdout",
     "output_type": "stream",
     "text": [
      "Generate_emails \t Elapsed time: 0.8946042060852051 seconds\n"
     ]
    }
   ],
   "source": [
    "analyze(generate_emails,10,list_of_domains,100000)"
   ]
  }
 ],
 "metadata": {
  "kernelspec": {
   "display_name": "Python 3",
   "language": "python",
   "name": "python3"
  },
  "language_info": {
   "codemirror_mode": {
    "name": "ipython",
    "version": 3
   },
   "file_extension": ".py",
   "mimetype": "text/x-python",
   "name": "python",
   "nbconvert_exporter": "python",
   "pygments_lexer": "ipython3",
   "version": "3.7.1"
  }
 },
 "nbformat": 4,
 "nbformat_minor": 2
}

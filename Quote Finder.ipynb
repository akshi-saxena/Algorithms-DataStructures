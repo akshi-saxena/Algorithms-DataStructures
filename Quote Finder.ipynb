{
 "cells": [
  {
   "cell_type": "code",
   "execution_count": 2,
   "metadata": {},
   "outputs": [],
   "source": [
    "from random import choice\n",
    "from string import ascii_lowercase as letters"
   ]
  },
  {
   "cell_type": "markdown",
   "metadata": {},
   "source": [
    "Generate data having key-email and value-quote"
   ]
  },
  {
   "cell_type": "code",
   "execution_count": 3,
   "metadata": {},
   "outputs": [],
   "source": [
    "list_of_domains = [\"gmail.com\",\"yahoo.com\",\"rediffmail.com\",\"hotmail.com\"]\n",
    "list_of_quotes = [\"Love For All, Hatred For None.\",\\\n",
    "                 \"Every moment is a fresh beginning.\",\\\n",
    "                 \"Change the world by being yourself.\",\\\n",
    "                 \"Die with memories, not dreams.\"]\n",
    "\n",
    "def generate_name(len_of_name):\n",
    "    return \"\".join(choice(letters) for i in range(len_of_name))\n",
    "\n",
    "def get_domain(list_of_domains):\n",
    "    return choice(list_of_domains)\n",
    "\n",
    "def get_quote(list_of_quotes):\n",
    "    return choice(list_of_quotes)\n",
    "\n",
    "def generate_data(len_of_name,list_of_domains,list_of_quotes,total_records):\n",
    "    with open(\"data.txt\",\"w\") as to_write:\n",
    "        for i in range(total_records):\n",
    "            key = generate_name(len_of_name)+\"@\"+get_domain(list_of_domains)\n",
    "            val = get_quote(list_of_quotes)\n",
    "            to_write.write(key+\":\"+val+\"\\n\")\n",
    "        to_write.write(\"blehhead@gmail.com:Welcome to the real world. It sucks! You're gonna love it.\\n\")"
   ]
  },
  {
   "cell_type": "code",
   "execution_count": 5,
   "metadata": {},
   "outputs": [],
   "source": [
    "generate_data(10,list_of_domains,list_of_quotes,100000)"
   ]
  },
  {
   "cell_type": "markdown",
   "metadata": {},
   "source": [
    "HashMap"
   ]
  },
  {
   "cell_type": "code",
   "execution_count": 15,
   "metadata": {},
   "outputs": [],
   "source": [
    "class HashTable:\n",
    "    def  __init__(self, size):\n",
    "        self.size = size\n",
    "        self.hash_table = self.create_buckets()\n",
    "    \n",
    "    def create_buckets(self):\n",
    "        return [[] for _ in range(self.size)]\n",
    "\n",
    "    def set_val(self, key, val):\n",
    "        hashed_key = hash(key) % self.size\n",
    "        bucket = self.hash_table[hashed_key]\n",
    "        found_key = False\n",
    "        for index, record in enumerate(bucket):\n",
    "            record_key, record_val = record\n",
    "            if record_key == key:\n",
    "                found_key = True\n",
    "                break\n",
    "        if found_key:\n",
    "            bucket[index] = (key,val)\n",
    "        else:\n",
    "            bucket.append((key,val))\n",
    "    \n",
    "    def get_val(self, key):\n",
    "        hashed_key = hash(key) % self.size\n",
    "        bucket = self.hash_table[hashed_key]\n",
    "        found_key = False\n",
    "        for index, record in enumerate(bucket):\n",
    "            record_key, record_val = record\n",
    "            if record_key == key:\n",
    "                found_key = True\n",
    "                break\n",
    "        if found_key:\n",
    "            return record_val\n",
    "        else:\n",
    "            return \"No record found\"\n",
    "        \n",
    "    def delete_val(self, key):\n",
    "        hashed_key = hash(key) % self.size\n",
    "        bucket = self.hash_table[hashed_key]\n",
    "        found_key = False\n",
    "        for index, record in enumerate(bucket):\n",
    "            record_key, record_val = record\n",
    "            if record_key == key:\n",
    "                found_key = True\n",
    "                break\n",
    "        if found_key:\n",
    "            return f\"{bucket.pop(index)} deleted from table\"\n",
    "        else:\n",
    "            return \"Cannot delete. No record found\"\n",
    "    \n",
    "    def __str__(self):\n",
    "        return \"\".join(str(item) for item in self.hash_table)"
   ]
  },
  {
   "cell_type": "code",
   "execution_count": 12,
   "metadata": {},
   "outputs": [],
   "source": [
    "hash_table = HashTable(256)\n",
    "\n",
    "with open(\"data.txt\",\"w\") as f:\n",
    "    for line in f:\n",
    "        key,val = line.split(\":\")\n",
    "        hash_table.set_val(key,val)"
   ]
  },
  {
   "cell_type": "code",
   "execution_count": 14,
   "metadata": {},
   "outputs": [
    {
     "data": {
      "text/plain": [
       "\"Welcome to the real world. It sucks! You're gonna love it.\\n\""
      ]
     },
     "execution_count": 14,
     "metadata": {},
     "output_type": "execute_result"
    }
   ],
   "source": [
    "hash_table.get_val('blehhead@gmail.com')"
   ]
  },
  {
   "cell_type": "code",
   "execution_count": 16,
   "metadata": {},
   "outputs": [
    {
     "data": {
      "text/plain": [
       "'(\\'blehhead@gmail.com\\', \"Welcome to the real world. It sucks! You\\'re gonna love it.\\\\n\") deleted'"
      ]
     },
     "execution_count": 16,
     "metadata": {},
     "output_type": "execute_result"
    }
   ],
   "source": [
    "hash_table.delete_val('blehhead@gmail.com')"
   ]
  }
 ],
 "metadata": {
  "kernelspec": {
   "display_name": "Python 3",
   "language": "python",
   "name": "python3"
  },
  "language_info": {
   "codemirror_mode": {
    "name": "ipython",
    "version": 3
   },
   "file_extension": ".py",
   "mimetype": "text/x-python",
   "name": "python",
   "nbconvert_exporter": "python",
   "pygments_lexer": "ipython3",
   "version": "3.7.1"
  }
 },
 "nbformat": 4,
 "nbformat_minor": 2
}

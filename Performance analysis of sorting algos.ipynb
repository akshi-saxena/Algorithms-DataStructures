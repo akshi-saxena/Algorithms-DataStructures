{
 "cells": [
  {
   "cell_type": "code",
   "execution_count": 1,
   "metadata": {},
   "outputs": [],
   "source": [
    "import time"
   ]
  },
  {
   "cell_type": "code",
   "execution_count": 2,
   "metadata": {},
   "outputs": [],
   "source": [
    "def bubblesort(arr):\n",
    "    swap_happened = True\n",
    "    while(swap_happened):\n",
    "        swap_happened = False\n",
    "        for i in range(len(arr)-1):\n",
    "            if(arr[i] > arr[i+1]):\n",
    "                swap_happened = True\n",
    "                arr[i],arr[i+1] = arr[i+1],arr[i]\n",
    "#             print(\"swap: \",arr)\n",
    "#         print(\"iter\",arr)\n",
    "    return arr\n",
    "\n",
    "# l1 = [6,8,1,4,10,7,8,9,2,3,5]\n",
    "# bubble_sort(l1)"
   ]
  },
  {
   "cell_type": "code",
   "execution_count": 3,
   "metadata": {},
   "outputs": [],
   "source": [
    "def selectionsort(arr):\n",
    "    for outer_marker in range(len(arr)):\n",
    "        for inner in range(outer_marker,len(arr)):\n",
    "            if arr[outer_marker] > arr[inner]:\n",
    "#                 print(\"swap happened\")\n",
    "                arr[outer_marker] , arr[inner] = arr[inner] , arr[outer_marker]\n",
    "#                 print(arr)\n",
    "#         print(\"outer:\",arr)\n",
    "    return arr\n",
    "\n",
    "# l1 = [6,8,1,4,10,7,8,9,2,3,5]\n",
    "# selection_sort(l1)"
   ]
  },
  {
   "cell_type": "code",
   "execution_count": 4,
   "metadata": {},
   "outputs": [],
   "source": [
    "def insertionsort(arr):\n",
    "    for key in range(1,len(arr)):\n",
    "        curr = key\n",
    "        for i in range(key):\n",
    "#             print(f'key:{key},curr:{curr}',arr)\n",
    "            if arr[curr]<arr[curr-1]:\n",
    "#                 print(\"swapped\")\n",
    "                arr[curr],arr[curr-1] = arr[curr-1],arr[curr]\n",
    "                curr = curr-1\n",
    "            else:\n",
    "                break\n",
    "#         print(arr)\n",
    "    return arr\n",
    "\n",
    "# l1 = [6,1,8,4,10]\n",
    "# insertion_sort(l1)"
   ]
  },
  {
   "cell_type": "code",
   "execution_count": 9,
   "metadata": {},
   "outputs": [],
   "source": [
    "def merge_sorted(arr1,arr2):\n",
    "    \"\"\"merge and sort\"\"\"\n",
    "#     print(f\"merge called with lists: \\nleft - {arr1} and right - {arr2}\")\n",
    "    sorted_arr = []\n",
    "    i,j=0,0\n",
    "    while(i<len(arr1) and j<len(arr2)):\n",
    "#         print(f\"left index {i}, value: {arr1[i]} \\nright index {j}, value: {arr2[j]}\")\n",
    "        if arr1[i]<arr2[j]:\n",
    "            sorted_arr.append(arr1[i])\n",
    "            i+=1\n",
    "        else:\n",
    "            sorted_arr.append(arr2[j])\n",
    "            j+=1\n",
    "#         print(f\"sorted arr: {sorted_arr}\")\n",
    "    while i<len(arr1):\n",
    "        sorted_arr.append(arr1[i])\n",
    "        i+=1\n",
    "    while j<len(arr2):\n",
    "        sorted_arr.append(arr2[j])\n",
    "        j+=1\n",
    "#     print(f\"sorted arr: {sorted_arr}\")\n",
    "    \n",
    "    return sorted_arr\n",
    " \n",
    "def mergesort(arr):\n",
    "    \"\"\"recursive divide\"\"\"\n",
    "    start = time.time()\n",
    "    if len(arr)<2:\n",
    "#         print(f\"base condition reached with arr: {arr[:]}\")\n",
    "        return arr[:]\n",
    "    else:\n",
    "        mid = len(arr)//2\n",
    "#         print(f\"left split: {arr[:mid]} \\nright split: {arr[mid:]}\")\n",
    "        l = mergesort(arr[:mid])\n",
    "        r = mergesort(arr[mid:])\n",
    "        return merge_sorted(l,r)\n",
    "    \n",
    "            \n",
    "# l1 = [6, 8, 1, 4, 10, 7, 8, 9, 2, 3, 5]\n",
    "# print(f\"merge sorted list: {divide_arr(l1)}\")"
   ]
  },
  {
   "cell_type": "code",
   "execution_count": 11,
   "metadata": {},
   "outputs": [],
   "source": [
    "def quicksort(arr):\n",
    "    if len(arr) < 2 :\n",
    "        return arr[:]\n",
    "    else:\n",
    "        pivot = arr[-1] #could be first, last or mid or anything\n",
    "        l,eq,r = [],[],[]\n",
    "        for i in arr:\n",
    "            if i < pivot:\n",
    "                l.append(i)\n",
    "            elif i == pivot:\n",
    "                eq.append(i)\n",
    "            else:\n",
    "                r.append(i)\n",
    "        return quicksort(l)+eq+quicksort(r)\n",
    "\n",
    "# l1 = [6, 8, 1, 4, 10, 7, 8, 9, 2, 3, 5]\n",
    "# quick_sort(l1)"
   ]
  },
  {
   "cell_type": "code",
   "execution_count": 15,
   "metadata": {},
   "outputs": [
    {
     "name": "stdout",
     "output_type": "stream",
     "text": [
      "Input array length that you want to create: 10000\n",
      "Input max value limit of array: 1000\n",
      "Input number of runs: 2\n",
      "____________________________________________________________________________________________________\n",
      "Run 1\n",
      "Bubblesort \t Elapsed time: 47.8469 seconds\n",
      "Insertionsort \t Elapsed time: 22.1872 seconds\n",
      "Selectionsort \t Elapsed time: 10.493 seconds\n",
      "Mergesort \t Elapsed time: 0.1188 seconds\n",
      "Quicksort \t Elapsed time: 1.2885 seconds\n",
      "____________________________________________________________________________________________________\n",
      "Run 2\n",
      "Bubblesort \t Elapsed time: 42.5069 seconds\n",
      "Insertionsort \t Elapsed time: 24.0154 seconds\n",
      "Selectionsort \t Elapsed time: 10.5076 seconds\n",
      "Mergesort \t Elapsed time: 0.1127 seconds\n",
      "Quicksort \t Elapsed time: 1.3707 seconds\n"
     ]
    }
   ],
   "source": [
    "import random\n",
    "\n",
    "def analyze(funcname,arr):\n",
    "    start = time.time()\n",
    "    funcname(arr)\n",
    "    end = time.time()\n",
    "    t = (end - start)\n",
    "    print(f\"{funcname.__name__.capitalize()} \\t Elapsed time: {round(t,4)} seconds\")\n",
    "\n",
    "arr_len = int(input(\"Input array length that you want to create: \"))\n",
    "arr_range = int(input(\"Input max value limit of array: \"))\n",
    "runs = int(input(\"Input number of runs: \"))\n",
    "  \n",
    "for i in range(runs):\n",
    "    arr = [random.randint(0,arr_range) for i in range(arr_len)]\n",
    "    \n",
    "    print(\"_\"*100)\n",
    "    print(f\"Run {i+1}\")\n",
    "    analyze(bubblesort,arr.copy())\n",
    "    analyze(insertionsort,arr)\n",
    "    analyze(selectionsort,arr)\n",
    "    analyze(mergesort,arr)\n",
    "    analyze(quicksort,arr)\n",
    "    "
   ]
  }
 ],
 "metadata": {
  "kernelspec": {
   "display_name": "Python 3",
   "language": "python",
   "name": "python3"
  },
  "language_info": {
   "codemirror_mode": {
    "name": "ipython",
    "version": 3
   },
   "file_extension": ".py",
   "mimetype": "text/x-python",
   "name": "python",
   "nbconvert_exporter": "python",
   "pygments_lexer": "ipython3",
   "version": "3.7.1"
  }
 },
 "nbformat": 4,
 "nbformat_minor": 2
}

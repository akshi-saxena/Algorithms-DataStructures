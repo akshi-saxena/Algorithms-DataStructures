{
 "cells": [
  {
   "cell_type": "code",
   "execution_count": 1,
   "metadata": {},
   "outputs": [],
   "source": [
    "class Node:\n",
    "    def __init__(self, data=None):\n",
    "        self.data = data\n",
    "        self.next = None\n",
    "        \n",
    "    def __str__(self):\n",
    "        return f\"{self.data}\""
   ]
  },
  {
   "cell_type": "code",
   "execution_count": 10,
   "metadata": {},
   "outputs": [],
   "source": [
    "class LinkedList:\n",
    "    def __init__(self):\n",
    "        self.head = None\n",
    "        self.tail = None\n",
    "    \n",
    "    def __str__(self):\n",
    "        to_print = \"\"\n",
    "        curr = self.head\n",
    "        while curr is not None:\n",
    "            to_print = to_print + str(curr.data) + \"->\"\n",
    "            curr = curr.next\n",
    "        if to_print:\n",
    "            return \"[\" + to_print[:-2] + \"]\"\n",
    "        return \"[]\"\n",
    "    \n",
    "    def append_val(self, x):\n",
    "        if not isinstance(x, Node):\n",
    "            x = Node(x) \n",
    "        if self.head == None:\n",
    "            self.head = x\n",
    "        else:\n",
    "            self.tail.next = x\n",
    "        self.tail = x\n",
    "    \n",
    "    def add_to_start(self, x):\n",
    "        if not isinstance(x, Node):\n",
    "            x = Node(x)\n",
    "        curr = self.head\n",
    "        self.head = x\n",
    "        self.head.next = curr\n",
    "        \n",
    "    def search_val(self, x):\n",
    "        curr = self.head\n",
    "        index = 0\n",
    "        while curr is not None:\n",
    "            if curr.data == x:\n",
    "                return index\n",
    "            curr = curr.next\n",
    "            index += 1\n",
    "    \n",
    "    def remove_val_by_index(self, x):\n",
    "        prev = self.head\n",
    "        curr = self.head\n",
    "        count = 0\n",
    "        while curr is not None:\n",
    "            if count == x:\n",
    "                prev.next = curr.next\n",
    "                break\n",
    "            prev = curr\n",
    "            curr = curr.next\n",
    "            count += 1\n",
    "    \n",
    "    def length(self):\n",
    "        curr = self.head\n",
    "        count = 0\n",
    "        while curr is not None:\n",
    "            count += 1\n",
    "            curr = curr.next\n",
    "        return count      \n",
    "    \n",
    "    def reverse_list_recur(self, curr, prev):\n",
    "        if self.head is None:\n",
    "            return \n",
    "        elif curr.next is None:\n",
    "            self.tail = self.head\n",
    "            curr.next = prev\n",
    "            self.head = curr\n",
    "        else:\n",
    "            next = curr.next\n",
    "            curr.next = prev\n",
    "            self.reverse_list_recur(next, curr)"
   ]
  },
  {
   "cell_type": "code",
   "execution_count": 11,
   "metadata": {},
   "outputs": [],
   "source": [
    "node1 = Node(1)\n",
    "node2 = Node(2)\n",
    "node3 = Node(3)\n",
    "node4 = Node(4)\n",
    "node5 = Node(5)\n",
    "\n",
    "li = LinkedList()\n",
    "\n",
    "li.append_val(node1)\n",
    "li.append_val(node2)\n",
    "li.append_val(node3)\n",
    "li.append_val(node4)\n",
    "li.append_val(5)"
   ]
  },
  {
   "cell_type": "code",
   "execution_count": 12,
   "metadata": {},
   "outputs": [
    {
     "name": "stdout",
     "output_type": "stream",
     "text": [
      "[1->2->3->4->5]\n"
     ]
    }
   ],
   "source": [
    "print(li)"
   ]
  },
  {
   "cell_type": "code",
   "execution_count": 13,
   "metadata": {},
   "outputs": [
    {
     "data": {
      "text/plain": [
       "3"
      ]
     },
     "execution_count": 13,
     "metadata": {},
     "output_type": "execute_result"
    }
   ],
   "source": [
    "li.search_val(4)"
   ]
  },
  {
   "cell_type": "code",
   "execution_count": 14,
   "metadata": {},
   "outputs": [
    {
     "name": "stdout",
     "output_type": "stream",
     "text": [
      "[0->1->2->3->4->5]\n"
     ]
    }
   ],
   "source": [
    "li.add_to_start(0)\n",
    "print(li)"
   ]
  },
  {
   "cell_type": "code",
   "execution_count": 15,
   "metadata": {},
   "outputs": [
    {
     "data": {
      "text/plain": [
       "6"
      ]
     },
     "execution_count": 15,
     "metadata": {},
     "output_type": "execute_result"
    }
   ],
   "source": [
    "li.length()"
   ]
  },
  {
   "cell_type": "code",
   "execution_count": 16,
   "metadata": {},
   "outputs": [
    {
     "name": "stdout",
     "output_type": "stream",
     "text": [
      "[0->1->2->4->5]\n"
     ]
    }
   ],
   "source": [
    "li.remove_val_by_index(3)\n",
    "print(li)"
   ]
  },
  {
   "cell_type": "code",
   "execution_count": 17,
   "metadata": {},
   "outputs": [],
   "source": [
    "li.reverse_list_recur(li.head,None)"
   ]
  },
  {
   "cell_type": "code",
   "execution_count": 18,
   "metadata": {},
   "outputs": [
    {
     "name": "stdout",
     "output_type": "stream",
     "text": [
      "[5->4->2->1->0]\n"
     ]
    }
   ],
   "source": [
    "print(li)"
   ]
  }
 ],
 "metadata": {
  "kernelspec": {
   "display_name": "Python 3",
   "language": "python",
   "name": "python3"
  },
  "language_info": {
   "codemirror_mode": {
    "name": "ipython",
    "version": 3
   },
   "file_extension": ".py",
   "mimetype": "text/x-python",
   "name": "python",
   "nbconvert_exporter": "python",
   "pygments_lexer": "ipython3",
   "version": "3.7.1"
  }
 },
 "nbformat": 4,
 "nbformat_minor": 2
}
